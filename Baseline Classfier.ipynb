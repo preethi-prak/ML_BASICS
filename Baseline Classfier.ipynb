{
 "cells": [
  {
   "cell_type": "code",
   "execution_count": 35,
   "id": "6c237e50",
   "metadata": {},
   "outputs": [],
   "source": [
    "from sklearn.datasets import load_breast_cancer\n",
    "from sklearn.model_selection import train_test_split\n",
    "from sklearn.dummy import DummyClassifier\n",
    "from sklearn.metrics import accuracy_score, classification_report\n"
   ]
  },
  {
   "cell_type": "code",
   "execution_count": 36,
   "id": "a6815da3",
   "metadata": {},
   "outputs": [],
   "source": [
    "# Load the breast cancer dataset\n",
    "data = load_breast_cancer()\n",
    "X = data.data\n",
    "y = data.target"
   ]
  },
  {
   "cell_type": "code",
   "execution_count": 37,
   "id": "76380350",
   "metadata": {},
   "outputs": [],
   "source": [
    "# Split the dataset into training and test sets\n",
    "X_train, X_test, y_train, y_test = train_test_split(X, y, test_size=0.2, random_state=42)\n"
   ]
  },
  {
   "cell_type": "code",
   "execution_count": 38,
   "id": "6bce5c25",
   "metadata": {},
   "outputs": [],
   "source": [
    "# Create a baseline random classifier\n",
    "dummy_clf = DummyClassifier(strategy='stratified', random_state=42)\n",
    "\n",
    "# Fit the baseline classifier on the training data\n",
    "dummy_clf.fit(X_train, y_train)\n",
    "\n",
    "# Make predictions on the test data\n",
    "y_pred = dummy_clf.predict(X_test)\n",
    "\n",
    "# Calculate accuracy and other metrics\n",
    "accuracy = accuracy_score(y_test, y_pred)\n",
    "report = classification_report(y_test, y_pred)"
   ]
  },
  {
   "cell_type": "code",
   "execution_count": 39,
   "id": "08f07185",
   "metadata": {},
   "outputs": [
    {
     "name": "stdout",
     "output_type": "stream",
     "text": [
      "Baseline Classifier Accuracy: 0.5701754385964912\n",
      "Classification Report:\n",
      "              precision    recall  f1-score   support\n",
      "\n",
      "           0       0.42      0.37      0.40        43\n",
      "           1       0.64      0.69      0.67        71\n",
      "\n",
      "    accuracy                           0.57       114\n",
      "   macro avg       0.53      0.53      0.53       114\n",
      "weighted avg       0.56      0.57      0.56       114\n",
      "\n"
     ]
    }
   ],
   "source": [
    "# Print the results\n",
    "print(\"Baseline Classifier Accuracy:\", accuracy)\n",
    "print(\"Classification Report:\")\n",
    "print(report)"
   ]
  },
  {
   "cell_type": "code",
   "execution_count": 40,
   "id": "09a77852",
   "metadata": {},
   "outputs": [],
   "source": [
    "\n",
    "# Create a baseline random classifier\n",
    "dummy_clf_most_frequent = DummyClassifier(strategy='most_frequent', random_state=42)\n",
    "\n",
    "# Fit the baseline classifier on the training data\n",
    "dummy_clf_most_frequent.fit(X_train, y_train)\n",
    "\n",
    "# Make predictions on the test data\n",
    "y_pred_most_frequent = dummy_clf_most_frequent.predict(X_test)\n",
    "\n",
    "# Calculate accuracy and other metrics\n",
    "accuracy_most_frequent = accuracy_score(y_test, y_pred_most_frequent)\n",
    "# We dont have to calculate F1 score in this case because only the mejority of labels in y_testappear in y_pred.\n",
    "#hence there is no F1 score to calculate for this label "
   ]
  },
  {
   "cell_type": "code",
   "execution_count": 41,
   "id": "cc4dcbd7",
   "metadata": {},
   "outputs": [
    {
     "name": "stdout",
     "output_type": "stream",
     "text": [
      "Baseline Classifier Accuracy using most_frequent stratergy: 0.6228070175438597\n"
     ]
    }
   ],
   "source": [
    "# Print the results\n",
    "print(\"Baseline Classifier Accuracy using most_frequent stratergy:\", accuracy_most_frequent)\n"
   ]
  }
 ],
 "metadata": {
  "kernelspec": {
   "display_name": "Python 3 (ipykernel)",
   "language": "python",
   "name": "python3"
  },
  "language_info": {
   "codemirror_mode": {
    "name": "ipython",
    "version": 3
   },
   "file_extension": ".py",
   "mimetype": "text/x-python",
   "name": "python",
   "nbconvert_exporter": "python",
   "pygments_lexer": "ipython3",
   "version": "3.11.2"
  }
 },
 "nbformat": 4,
 "nbformat_minor": 5
}
